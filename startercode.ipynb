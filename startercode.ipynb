{
 "cells": [
  {
   "cell_type": "markdown",
   "id": "fc1c6ce1-0894-46d4-89c2-45c0dd2f3b01",
   "metadata": {},
   "source": [
    "# Unsupervised Analysis of days of Week\n",
    "\n",
    "Treating crossings each day as features to learn about the relationships between various days."
   ]
  },
  {
   "cell_type": "code",
   "execution_count": 1,
   "id": "63350365-7c14-4a3a-a1da-d1626ac3ac0c",
   "metadata": {
    "tags": []
   },
   "outputs": [],
   "source": [
    "import pandas as pd\n",
    "import numpy as np"
   ]
  },
  {
   "cell_type": "markdown",
   "id": "942cff93-985c-4a34-a5f1-2a4ef720e05a",
   "metadata": {},
   "source": [
    "## Get Data "
   ]
  },
  {
   "cell_type": "code",
   "execution_count": 2,
   "id": "d35054f4-5327-4efb-bd4b-0fc0055f9479",
   "metadata": {
    "tags": []
   },
   "outputs": [
    {
     "name": "stderr",
     "output_type": "stream",
     "text": [
      "C:\\Users\\alish\\AppData\\Local\\Temp\\ipykernel_20432\\3922072062.py:1: UserWarning: Could not infer format, so each element will be parsed individually, falling back to `dateutil`. To ensure parsing is consistent and as-expected, please specify a format.\n",
      "  df = pd.read_csv('Fremont_Bridge_Bicycle_Counter_20240716.csv', index_col ='Date', parse_dates=True)\n"
     ]
    }
   ],
   "source": [
    "df = pd.read_csv('Fremont_Bridge_Bicycle_Counter_20240716.csv', index_col ='Date', parse_dates=True)"
   ]
  },
  {
   "cell_type": "code",
   "execution_count": 3,
   "id": "2d4f7640-c149-4965-ac40-64063659144a",
   "metadata": {
    "tags": []
   },
   "outputs": [
    {
     "data": {
      "text/plain": [
       "array([datetime.time(0, 0), datetime.time(1, 0), datetime.time(2, 0),\n",
       "       datetime.time(3, 0), datetime.time(4, 0), datetime.time(5, 0),\n",
       "       datetime.time(6, 0), datetime.time(7, 0), datetime.time(8, 0),\n",
       "       datetime.time(9, 0), datetime.time(10, 0), datetime.time(11, 0),\n",
       "       datetime.time(12, 0), datetime.time(13, 0), datetime.time(14, 0),\n",
       "       datetime.time(15, 0), datetime.time(16, 0), datetime.time(17, 0),\n",
       "       datetime.time(18, 0), datetime.time(19, 0), datetime.time(20, 0),\n",
       "       datetime.time(21, 0), datetime.time(22, 0), datetime.time(23, 0)],\n",
       "      dtype=object)"
      ]
     },
     "execution_count": 3,
     "metadata": {},
     "output_type": "execute_result"
    }
   ],
   "source": [
    "np.unique(df.index.time)"
   ]
  },
  {
   "cell_type": "code",
   "execution_count": 4,
   "id": "fe4bbabf-298f-417d-abcf-7d844bfc4483",
   "metadata": {},
   "outputs": [
    {
     "name": "stdout",
     "output_type": "stream",
     "text": [
      "Date,\"Fremont Bridge Sidewalks, south of N 34th St\",\"Fremont Bridge Sidewalks, south of N 34th St Cyclist West Sidewalk\",\"Fremont Bridge Sidewalks, south of N 34th St Cyclist East Sidewalk\"\n",
      "10/02/2012 01:00:00 PM,55,7,48\n",
      "10/02/2012 02:00:00 PM,130,55,75\n",
      "10/02/2012 03:00:00 PM,152,81,71\n",
      "10/02/2012 04:00:00 PM,278,167,111\n",
      "10/02/2012 05:00:00 PM,563,393,170\n",
      "10/02/2012 06:00:00 PM,381,236,145\n",
      "10/02/2012 07:00:00 PM,175,104,71\n",
      "10/02/2012 08:00:00 PM,86,51,35\n",
      "10/02/2012 09:00:00 PM,63,35,28\n"
     ]
    }
   ],
   "source": [
    "! head Fremont_Bridge_Bicycle_Counter_20240716.csv"
   ]
  },
  {
   "cell_type": "code",
   "execution_count": 5,
   "id": "04240d47-245c-46f0-af2e-9ac748de783c",
   "metadata": {
    "tags": []
   },
   "outputs": [
    {
     "data": {
      "text/html": [
       "<div>\n",
       "<style scoped>\n",
       "    .dataframe tbody tr th:only-of-type {\n",
       "        vertical-align: middle;\n",
       "    }\n",
       "\n",
       "    .dataframe tbody tr th {\n",
       "        vertical-align: top;\n",
       "    }\n",
       "\n",
       "    .dataframe thead th {\n",
       "        text-align: right;\n",
       "    }\n",
       "</style>\n",
       "<table border=\"1\" class=\"dataframe\">\n",
       "  <thead>\n",
       "    <tr style=\"text-align: right;\">\n",
       "      <th></th>\n",
       "      <th>Fremont Bridge Sidewalks, south of N 34th St</th>\n",
       "      <th>Fremont Bridge Sidewalks, south of N 34th St Cyclist West Sidewalk</th>\n",
       "      <th>Fremont Bridge Sidewalks, south of N 34th St Cyclist East Sidewalk</th>\n",
       "    </tr>\n",
       "    <tr>\n",
       "      <th>Date</th>\n",
       "      <th></th>\n",
       "      <th></th>\n",
       "      <th></th>\n",
       "    </tr>\n",
       "  </thead>\n",
       "  <tbody>\n",
       "    <tr>\n",
       "      <th>2012-10-02 13:00:00</th>\n",
       "      <td>55.0</td>\n",
       "      <td>7.0</td>\n",
       "      <td>48.0</td>\n",
       "    </tr>\n",
       "    <tr>\n",
       "      <th>2012-10-02 14:00:00</th>\n",
       "      <td>130.0</td>\n",
       "      <td>55.0</td>\n",
       "      <td>75.0</td>\n",
       "    </tr>\n",
       "    <tr>\n",
       "      <th>2012-10-02 15:00:00</th>\n",
       "      <td>152.0</td>\n",
       "      <td>81.0</td>\n",
       "      <td>71.0</td>\n",
       "    </tr>\n",
       "    <tr>\n",
       "      <th>2012-10-02 16:00:00</th>\n",
       "      <td>278.0</td>\n",
       "      <td>167.0</td>\n",
       "      <td>111.0</td>\n",
       "    </tr>\n",
       "    <tr>\n",
       "      <th>2012-10-02 17:00:00</th>\n",
       "      <td>563.0</td>\n",
       "      <td>393.0</td>\n",
       "      <td>170.0</td>\n",
       "    </tr>\n",
       "  </tbody>\n",
       "</table>\n",
       "</div>"
      ],
      "text/plain": [
       "                     Fremont Bridge Sidewalks, south of N 34th St  \\\n",
       "Date                                                                \n",
       "2012-10-02 13:00:00                                          55.0   \n",
       "2012-10-02 14:00:00                                         130.0   \n",
       "2012-10-02 15:00:00                                         152.0   \n",
       "2012-10-02 16:00:00                                         278.0   \n",
       "2012-10-02 17:00:00                                         563.0   \n",
       "\n",
       "                     Fremont Bridge Sidewalks, south of N 34th St Cyclist West Sidewalk  \\\n",
       "Date                                                                                      \n",
       "2012-10-02 13:00:00                                                7.0                    \n",
       "2012-10-02 14:00:00                                               55.0                    \n",
       "2012-10-02 15:00:00                                               81.0                    \n",
       "2012-10-02 16:00:00                                              167.0                    \n",
       "2012-10-02 17:00:00                                              393.0                    \n",
       "\n",
       "                     Fremont Bridge Sidewalks, south of N 34th St Cyclist East Sidewalk  \n",
       "Date                                                                                     \n",
       "2012-10-02 13:00:00                                               48.0                   \n",
       "2012-10-02 14:00:00                                               75.0                   \n",
       "2012-10-02 15:00:00                                               71.0                   \n",
       "2012-10-02 16:00:00                                              111.0                   \n",
       "2012-10-02 17:00:00                                              170.0                   "
      ]
     },
     "execution_count": 5,
     "metadata": {},
     "output_type": "execute_result"
    }
   ],
   "source": [
    "df.head()"
   ]
  },
  {
   "cell_type": "code",
   "execution_count": 7,
   "id": "0ba75dba-81b5-4490-9767-039f344e3c94",
   "metadata": {
    "tags": []
   },
   "outputs": [
    {
     "data": {
      "text/plain": [
       "(102947, 3)"
      ]
     },
     "execution_count": 7,
     "metadata": {},
     "output_type": "execute_result"
    }
   ],
   "source": [
    "df.shape"
   ]
  },
  {
   "cell_type": "code",
   "execution_count": null,
   "id": "5605994b-7935-45e5-95db-f45ba5c346f2",
   "metadata": {
    "tags": []
   },
   "outputs": [],
   "source": [
    "df.index"
   ]
  },
  {
   "cell_type": "code",
   "execution_count": null,
   "id": "d6d0be6f-87b5-4735-a508-48397d404371",
   "metadata": {
    "tags": []
   },
   "outputs": [],
   "source": [
    "pd.to_datetime(df.index, format = '%m/%d/%y %H:%M:%S %p')"
   ]
  },
  {
   "cell_type": "code",
   "execution_count": null,
   "id": "c770d524-e5fc-488b-9db9-611b05128664",
   "metadata": {
    "tags": []
   },
   "outputs": [],
   "source": [
    "df.plot()"
   ]
  },
  {
   "cell_type": "code",
   "execution_count": null,
   "id": "b55425e3-f20d-4d41-9b88-c5cc9a353a02",
   "metadata": {
    "tags": []
   },
   "outputs": [],
   "source": [
    "df.resample('W').sum().plot();"
   ]
  },
  {
   "cell_type": "code",
   "execution_count": null,
   "id": "6a0a154e-b23a-42a9-89a9-c293d4929223",
   "metadata": {},
   "outputs": [],
   "source": [
    "import matplotlib.pyplot as plt\n",
    "df.resample('W').sum().plot()"
   ]
  },
  {
   "cell_type": "code",
   "execution_count": null,
   "id": "45582b36-160c-4013-a593-b8e8e1d01428",
   "metadata": {
    "tags": []
   },
   "outputs": [],
   "source": [
    "df['Total'] = df['Fremont Bridge Sidewalks, south of N 34th St'] + df['Fremont Bridge Sidewalks, south of N 34th St Cyclist West Sidewalk'] + df['Fremont Bridge Sidewalks, south of N 34th St Cyclist East Sidewalk']\n",
    "ax = df.resample('D').sum().rolling(365).sum().plot()\n",
    "ax.set_ylim(0,None)"
   ]
  },
  {
   "cell_type": "code",
   "execution_count": null,
   "id": "9479a9c0-0314-4ffb-a827-a86f609d8d52",
   "metadata": {
    "tags": []
   },
   "outputs": [],
   "source": [
    "df.groupby(df.index.time).mean().plot()"
   ]
  },
  {
   "cell_type": "code",
   "execution_count": null,
   "id": "291fba3e-900d-479a-9465-cc193cae29d7",
   "metadata": {
    "tags": []
   },
   "outputs": [],
   "source": [
    "pivoted = df.pivot_table('Total', index=df.index.time, columns=df.index.date)\n",
    "pivoted.iloc[:5,:5]"
   ]
  },
  {
   "cell_type": "code",
   "execution_count": null,
   "id": "4a24197d-67e3-412c-9a56-a2e85ed8bfbb",
   "metadata": {
    "tags": []
   },
   "outputs": [],
   "source": [
    "pivoted.plot(legend=False, alpha=0.01)"
   ]
  },
  {
   "cell_type": "markdown",
   "id": "bd8a3468-0319-4e67-9e86-cebf57e38707",
   "metadata": {},
   "source": [
    "## Principal Component Analysis"
   ]
  },
  {
   "cell_type": "code",
   "execution_count": null,
   "id": "d211585f-d6b3-4728-ae68-db5c38841d67",
   "metadata": {
    "tags": []
   },
   "outputs": [],
   "source": [
    "pivoted.index"
   ]
  },
  {
   "cell_type": "code",
   "execution_count": null,
   "id": "3889e585-4009-452a-8e5f-9260b0dca847",
   "metadata": {
    "tags": []
   },
   "outputs": [],
   "source": [
    "X = pivoted.fillna(0).T.values\n",
    "X.shape"
   ]
  },
  {
   "cell_type": "code",
   "execution_count": null,
   "id": "f40c63ea-31da-4819-b716-04740a13d884",
   "metadata": {
    "tags": []
   },
   "outputs": [],
   "source": [
    "from sklearn.decomposition import PCA\n",
    "X2 = PCA(2, svd_solver='full').fit_transform(X)"
   ]
  },
  {
   "cell_type": "code",
   "execution_count": null,
   "id": "fb14b7de-c3fe-466b-8d81-3068c624073b",
   "metadata": {
    "tags": []
   },
   "outputs": [],
   "source": [
    "X2.shape"
   ]
  },
  {
   "cell_type": "code",
   "execution_count": null,
   "id": "2ec1bef3-12d9-449e-8cf6-6f137b5c6e9b",
   "metadata": {
    "tags": []
   },
   "outputs": [],
   "source": [
    "import matplotlib.pyplot as plt\n",
    "plt.scatter(X2[:,0], X2[:,1])"
   ]
  },
  {
   "cell_type": "markdown",
   "id": "ac4119d0-1241-4ebd-8f01-2d19f49b77d7",
   "metadata": {},
   "source": [
    "## Unsupervised Clustering "
   ]
  },
  {
   "cell_type": "code",
   "execution_count": null,
   "id": "02d0141a-7ed1-49fb-b9ac-b8a675d936e6",
   "metadata": {
    "tags": []
   },
   "outputs": [],
   "source": [
    "from sklearn.mixture import GaussianMixture\n",
    "gmm = GaussianMixture(2)\n",
    "gmm.fit(X)\n",
    "labels = gmm.predict(X)\n",
    "labels"
   ]
  },
  {
   "cell_type": "code",
   "execution_count": null,
   "id": "6faabdab-442b-4f58-99f2-73928f881263",
   "metadata": {
    "tags": []
   },
   "outputs": [],
   "source": [
    "plt.scatter(X2[:,0], X2[:,1],c=labels, cmap= 'rainbow')\n",
    "plt.colorbar()"
   ]
  },
  {
   "cell_type": "code",
   "execution_count": null,
   "id": "176f540f-80b1-4545-aca5-43cb2607664d",
   "metadata": {
    "tags": []
   },
   "outputs": [],
   "source": [
    "pivoted.T[labels == 1].T.plot(legend=False, alpha=0.1)\n",
    "pivoted.T[labels == 0].T.plot(legend=False, alpha =0.1)"
   ]
  },
  {
   "cell_type": "markdown",
   "id": "a7e56882-ea21-415c-9ce0-a61057c71fd0",
   "metadata": {},
   "source": [
    "## Comparing With Day of Week"
   ]
  },
  {
   "cell_type": "code",
   "execution_count": null,
   "id": "38703b4e-636b-4798-a4bf-bbdfca2e56c2",
   "metadata": {
    "tags": []
   },
   "outputs": [],
   "source": [
    "dayofweek = pd.DatetimeIndex(pivoted.columns).dayofweek"
   ]
  },
  {
   "cell_type": "code",
   "execution_count": null,
   "id": "d9be99f7-b33b-4ab3-b14c-77c387b3fff1",
   "metadata": {
    "tags": []
   },
   "outputs": [],
   "source": [
    "plt.scatter(X2[:,0], X2[:,1], c = dayofweek, cmap = 'rainbow')\n",
    "plt.colorbar()"
   ]
  },
  {
   "cell_type": "markdown",
   "id": "6a0fa0c3-0f7f-4afe-8ffe-10e1828ce94d",
   "metadata": {},
   "source": [
    "## Analyzing Outliers \n",
    "\n",
    "The following points are week days with a holiday like pattern"
   ]
  },
  {
   "cell_type": "code",
   "execution_count": null,
   "id": "c660956b-c24c-4c80-aa6a-624dd8457351",
   "metadata": {
    "tags": []
   },
   "outputs": [],
   "source": [
    "dates = pd.DatetimeIndex(pivoted.columns)\n",
    "dates[(labels == 1) & (dayofweek < 5)]"
   ]
  },
  {
   "cell_type": "markdown",
   "id": "6a256128-c371-4abd-aff3-be06926d457f",
   "metadata": {},
   "source": [
    ">>> What's up with Feb 6, 2017? [Snow Storm](https://www.seattletimes.com/seattle-news/weather/weather-service-predicts-3-to-6-inches-of-snow-in-seattle-area/)"
   ]
  },
  {
   "cell_type": "code",
   "execution_count": null,
   "id": "fde26e1b-c1b6-48af-aa07-4ffaf665f748",
   "metadata": {},
   "outputs": [],
   "source": [
    "[Seattle Transportation Website](https://data.seattle.gov/Transportation/Fremont-Bridge-Bicycle-Counter/65db-xm6k/about_data)"
   ]
  }
 ],
 "metadata": {
  "kernelspec": {
   "display_name": "Python 3 (ipykernel)",
   "language": "python",
   "name": "python3"
  },
  "language_info": {
   "codemirror_mode": {
    "name": "ipython",
    "version": 3
   },
   "file_extension": ".py",
   "mimetype": "text/x-python",
   "name": "python",
   "nbconvert_exporter": "python",
   "pygments_lexer": "ipython3",
   "version": "3.11.5"
  }
 },
 "nbformat": 4,
 "nbformat_minor": 5
}
